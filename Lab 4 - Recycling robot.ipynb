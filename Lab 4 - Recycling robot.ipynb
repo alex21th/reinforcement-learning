{
 "cells": [
  {
   "cell_type": "code",
   "execution_count": 2,
   "metadata": {},
   "outputs": [],
   "source": [
    "import numpy as np\n",
    "from scipy import linalg"
   ]
  },
  {
   "cell_type": "code",
   "execution_count": 3,
   "metadata": {},
   "outputs": [],
   "source": [
    "def value_function(π, P, r, gamma=0.9):\n",
    "    print('---- P ----  --- r ---')\n",
    "    print(P,r)\n",
    "    I = np.eye(P.shape[0])\n",
    "    V = np.dot(linalg.inv((I - gamma*P)), r)\n",
    "    print(f'Policy π_{π}, value function:')\n",
    "    return(V)"
   ]
  },
  {
   "cell_type": "code",
   "execution_count": 4,
   "metadata": {},
   "outputs": [
    {
     "name": "stdout",
     "output_type": "stream",
     "text": [
      "---- P ----  --- r ---\n",
      "[[0.9 0.1]\n",
      " [0.9 0.1]] [ 6.  -2.1]\n",
      "Policy π_1, value function:\n"
     ]
    },
    {
     "data": {
      "text/plain": [
       "array([52.71, 44.61])"
      ]
     },
     "execution_count": 4,
     "metadata": {},
     "output_type": "execute_result"
    }
   ],
   "source": [
    "value_function(π='1', P = np.array([[0.9,0.1],[0.9,0.1]]), r = np.array([6,-2.1]))"
   ]
  },
  {
   "cell_type": "code",
   "execution_count": 6,
   "metadata": {},
   "outputs": [
    {
     "name": "stdout",
     "output_type": "stream",
     "text": [
      "---- P ----  --- r ---\n",
      "[[0.9 0.1]\n",
      " [0.  1. ]] [6 1]\n",
      "Policy π_2, value function:\n"
     ]
    },
    {
     "data": {
      "text/plain": [
       "array([36.31578947, 10.        ])"
      ]
     },
     "execution_count": 6,
     "metadata": {},
     "output_type": "execute_result"
    }
   ],
   "source": [
    "value_function(π='2', P = np.array([[0.9,0.1],[0,1]]), r = np.array([6,1]))"
   ]
  },
  {
   "cell_type": "code",
   "execution_count": 7,
   "metadata": {},
   "outputs": [
    {
     "name": "stdout",
     "output_type": "stream",
     "text": [
      "---- P ----  --- r ---\n",
      "[[0.9 0.1]\n",
      " [1.  0. ]] [6 0]\n",
      "Policy π_3, value function:\n"
     ]
    },
    {
     "data": {
      "text/plain": [
       "array([55.04587156, 49.5412844 ])"
      ]
     },
     "execution_count": 7,
     "metadata": {},
     "output_type": "execute_result"
    }
   ],
   "source": [
    "value_function(π='3', P = np.array([[0.9,0.1],[1,0]]), r = np.array([6,0]))"
   ]
  },
  {
   "cell_type": "code",
   "execution_count": 11,
   "metadata": {},
   "outputs": [
    {
     "name": "stdout",
     "output_type": "stream",
     "text": [
      "---- P ----  --- r ---\n",
      "[[1.  0. ]\n",
      " [0.9 0.1]] [ 1.  -2.1]\n",
      "Policy π_4, value function:\n"
     ]
    },
    {
     "data": {
      "text/plain": [
       "array([10.        ,  6.59340659])"
      ]
     },
     "execution_count": 11,
     "metadata": {},
     "output_type": "execute_result"
    }
   ],
   "source": [
    "value_function(π='4', P = np.array([[1,0],[0.9,0.1]]), r = np.array([1,-2.1]))"
   ]
  },
  {
   "cell_type": "code",
   "execution_count": 9,
   "metadata": {},
   "outputs": [
    {
     "name": "stdout",
     "output_type": "stream",
     "text": [
      "---- P ----  --- r ---\n",
      "[[1 0]\n",
      " [0 1]] [1 1]\n",
      "Policy π_5, value function:\n"
     ]
    },
    {
     "data": {
      "text/plain": [
       "array([10., 10.])"
      ]
     },
     "execution_count": 9,
     "metadata": {},
     "output_type": "execute_result"
    }
   ],
   "source": [
    "value_function(π='5', P = np.array([[1,0],[0,1]]), r = np.array([1,1]))"
   ]
  },
  {
   "cell_type": "code",
   "execution_count": 10,
   "metadata": {},
   "outputs": [
    {
     "name": "stdout",
     "output_type": "stream",
     "text": [
      "---- P ----  --- r ---\n",
      "[[1 0]\n",
      " [1 0]] [1 0]\n",
      "Policy π_6, value function:\n"
     ]
    },
    {
     "data": {
      "text/plain": [
       "array([10.,  9.])"
      ]
     },
     "execution_count": 10,
     "metadata": {},
     "output_type": "execute_result"
    }
   ],
   "source": [
    "value_function(π='6', P = np.array([[1,0],[1,0]]), r = np.array([1,0]))"
   ]
  },
  {
   "cell_type": "code",
   "execution_count": null,
   "metadata": {},
   "outputs": [],
   "source": []
  }
 ],
 "metadata": {
  "kernelspec": {
   "display_name": "Python 3",
   "language": "python",
   "name": "python3"
  },
  "language_info": {
   "codemirror_mode": {
    "name": "ipython",
    "version": 3
   },
   "file_extension": ".py",
   "mimetype": "text/x-python",
   "name": "python",
   "nbconvert_exporter": "python",
   "pygments_lexer": "ipython3",
   "version": "3.6.2"
  }
 },
 "nbformat": 4,
 "nbformat_minor": 4
}
