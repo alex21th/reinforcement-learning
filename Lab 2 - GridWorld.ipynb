{
 "cells": [
  {
   "cell_type": "markdown",
   "metadata": {
    "id": "0Tdlo7SK8ZdT"
   },
   "source": [
    "## Colab Notebook created for ARAP module at UPC ETSETB.\n",
    "\n",
    "Authors: Juan José Nieto, Josep Vidal, Margarita Cabrera-Bean"
   ]
  },
  {
   "cell_type": "markdown",
   "metadata": {
    "id": "kQESq6dqoo-N"
   },
   "source": [
    "# GRID WORLD"
   ]
  },
  {
   "cell_type": "markdown",
   "metadata": {
    "id": "6nrr6nf3yDAz"
   },
   "source": [
    "## Complete the TODOs you'll find:\n",
    "\n",
    "\n",
    "1.  Initiate the variable POLICY p(s'|a,s).\n",
    "2.  Initiate the corresponding rewards in *next_position* function.\n",
    "3.  Compute the reward vector and the transition probability matrix.\n",
    "4.  Compute Bellman Equation\n",
    "-------------------------------------------------\n",
    "5.  Compute update of the state value\n",
    "6.  Program Policy Iteration Algorithm\n",
    "7.  Program Value Iteration Algorithm\n",
    "\n",
    "\n",
    "\n",
    "\n"
   ]
  },
  {
   "cell_type": "markdown",
   "metadata": {},
   "source": [
    "---\n",
    "\n",
    "## Lab 2. GridWorld\n",
    "#### Alex Carrillo Alza\n",
    "\n",
    "*Aprenentatge per Reforç i Aprenentatge Profund, Ciència i Enginyeria de Dades (UPC)*\n",
    "\n",
    "October 26, 2020\n",
    "\n",
    "---"
   ]
  },
  {
   "cell_type": "code",
   "execution_count": 1,
   "metadata": {
    "executionInfo": {
     "elapsed": 972,
     "status": "ok",
     "timestamp": 1601891074201,
     "user": {
      "displayName": "Alex Carrillo",
      "photoUrl": "https://lh3.googleusercontent.com/a-/AOh14Gh8XvPqwus6CkKd4emZXf-eO2sdYoWwmJXgh2SEF6U=s64",
      "userId": "11047744597613456062"
     },
     "user_tz": -120
    },
    "id": "RfmWXOV5pVR1"
   },
   "outputs": [],
   "source": [
    "import numpy as np\n",
    "import seaborn as sns\n",
    "\n",
    "from random import random\n",
    "import matplotlib.pyplot as plt"
   ]
  },
  {
   "cell_type": "markdown",
   "metadata": {},
   "source": [
    "In the `Grid` class below, we first initiate the variable $p(s'|a,s)$ (*i.e.* the `self.POLICY` matrix) and the corresponding reward $r(s,a,s')$, by giving values for $s,s'=1,\\dots,25$ and $a=1,\\dots,4$."
   ]
  },
  {
   "cell_type": "code",
   "execution_count": 2,
   "metadata": {
    "executionInfo": {
     "elapsed": 753,
     "status": "ok",
     "timestamp": 1601891081303,
     "user": {
      "displayName": "Alex Carrillo",
      "photoUrl": "https://lh3.googleusercontent.com/a-/AOh14Gh8XvPqwus6CkKd4emZXf-eO2sdYoWwmJXgh2SEF6U=s64",
      "userId": "11047744597613456062"
     },
     "user_tz": -120
    },
    "id": "ahQSmXlQgFr-"
   },
   "outputs": [],
   "source": [
    "class Grid():\n",
    "    def __init__(self):\n",
    "        self.N_ROWS = 5\n",
    "        self.N_COLUMNS = 5\n",
    "        self.N_STATES = self.N_ROWS * self.N_COLUMNS\n",
    "\n",
    "        self.GAMMA = 0.9\n",
    "        self.ZETA_MAX = 1e-3\n",
    "        self.ITER_MAX = 100\n",
    "        \n",
    "        self.ACTIONS = [(0, -1), (1, 0), (0, 1), (-1, 0)]\n",
    "        self.N_ACTIONS = 4\n",
    "        \n",
    "        # 1.TODO: Initialize with equal probability for each action in each state\n",
    "        self.POLICY = 1/(self.N_ACTIONS)*np.ones((self.N_STATES,self.N_ACTIONS))  # rows sum up 1\n",
    "\n",
    "        self.SPC_STATES = [(6, 10, 10), (16, 18, 5)] # (ini state, fin state, reward)\n",
    "\n",
    "        self.TrPrM = np.zeros((self.N_STATES, self.N_STATES))\n",
    "        self.V_FUNCTION = np.zeros(self.N_STATES)\n",
    "        self.REWARD = np.zeros(self.N_STATES)\n",
    "\n",
    "\n",
    "    ''' Convert state s from scalar to coordinates x,y '''\n",
    "    def get_XY(self, state):\n",
    "        state -= 1\n",
    "        return (state % self.N_ROWS, int(state / self.N_ROWS))\n",
    "\n",
    "    ''' Convert coordinates x,y to scalar state '''\n",
    "    def get_state(self, state):\n",
    "        return state[1]*self.N_COLUMNS + state[0] + 1\n",
    "\n",
    "\n",
    "    '''\n",
    "    Check if state is special\n",
    "\n",
    "    Params:\n",
    "        - int: state [1,...,25]\n",
    "    Returns:\n",
    "        - bool: is_special\n",
    "        - int: next_state\n",
    "        - int: reward\n",
    "    '''\n",
    "    def is_special(self, state):\n",
    "        for spc in self.SPC_STATES:\n",
    "            if spc[0] == state:\n",
    "                return True, spc[1], spc[2]\n",
    "        return False, None, None\n",
    "\n",
    "\n",
    "\n",
    "    '''\n",
    "    Computes next state and reward\n",
    "\n",
    "    Params:\n",
    "        - int: state [1,...,25]\n",
    "    Returns:\n",
    "        - int: next_state\n",
    "        - int: reward\n",
    "    '''\n",
    "    def next_position(self, state, action):\n",
    "        (x,y) = self.get_XY(state)\n",
    "        (ax, ay) = self.ACTIONS[action]\n",
    "\n",
    "        next_state = (x + ax, y + ay)\n",
    "\n",
    "        special = self.is_special(state)    # returns (is_special, next_state, reward)\n",
    "\n",
    "        # 2.TODO: Complete the TODOs with the corresponding rewards\n",
    "        if special[0]:                                                  # special state\n",
    "            return special[1], special[2]\n",
    "\n",
    "        elif next_state[0] > -1 and next_state[0] < self.N_ROWS and \\\n",
    "            next_state[1] > -1 and next_state[1] < self.N_COLUMNS:      # agent within the limits of the grid\n",
    "\n",
    "            next_state = self.get_state(next_state)\n",
    "            return next_state, 0\n",
    "\n",
    "        else:                                                           # agent is trying to overpass the limits of the grid\n",
    "            return state, -1\n"
   ]
  },
  {
   "cell_type": "markdown",
   "metadata": {
    "id": "EmCa9LE8tzG-"
   },
   "source": [
    "### Plot functions"
   ]
  },
  {
   "cell_type": "code",
   "execution_count": 3,
   "metadata": {},
   "outputs": [],
   "source": [
    "'''Insert title, and axis labels to plots'''\n",
    "def insert_labels(labels, ax):\n",
    "    if 'title' in labels:\n",
    "        ax.set_title(labels['title']) \n",
    "    if 'xlabel' in labels:\n",
    "        ax.set_xlabel(labels['xlabel']) \n",
    "    if 'ylabel' in labels:\n",
    "\t    ax.set_ylabel(labels['ylabel'])\n",
    "\n",
    "\n",
    "'''Plot for showing value functions'''\n",
    "def plot_heatmap(data, **kwargs):\n",
    "    fig, ax = plt.subplots()\n",
    "    sns.heatmap(data, cmap='coolwarm')\n",
    "    insert_labels(kwargs, ax)\n",
    "\n",
    "'''Plot for showing how the difference of state-values decrease over time'''\n",
    "def plot_deltas(data, **kwargs):\n",
    "    fig, ax = plt.subplots()\n",
    "    plt.plot(data)\n",
    "    insert_labels(kwargs, ax)\n",
    "\n",
    "'''Policy plots. Indicates action taken in each state.'''\n",
    "def plot_arrow(data, actions, **kwargs):\n",
    "\n",
    "    fig, ax = plt.subplots()\n",
    "\n",
    "    U = np.array([[actions[y][0] for y in x] for x in data])\n",
    "    V = np.array([[actions[y][1] for y in x] for x in data])\n",
    "\n",
    "    X = np.arange(0, 5, 1)\n",
    "    Y = np.arange(0, 5, 1)\n",
    "\n",
    "    q = ax.quiver(X, Y, V, U*-1)\n",
    "    plt.imshow(data, cmap=plt.cm.Pastel1)\n",
    "    # ax.quiverkey(q, X=0.3, Y=1.1, U=10, label=' ', labelpos='E')\n",
    "\n",
    "    insert_labels(kwargs, ax)\n",
    "    ax.axis('off')\n",
    "    plt.show()\n",
    "\n",
    "\n",
    "'''Group of N policy plots.'''\n",
    "def plot_arrows(data, actions):\n",
    "    # Only pick 3 first actions matrices and last one (optimal policy)\n",
    "    num_policies = len(data)\n",
    "\n",
    "    fdata = data[:min(3, num_policies)] + data[-1:]\n",
    "    \n",
    "\n",
    "    fig, ax = plt.subplots(1, len(fdata), figsize=(20,6))\n",
    "    for i, d in enumerate(fdata):\n",
    "\n",
    "        U = np.array([[actions[y][0] for y in x] for x in d])\n",
    "        V = np.array([[actions[y][1] for y in x] for x in d])\n",
    "\n",
    "        X = np.arange(0, 5, 1)\n",
    "        Y = np.arange(0, 5, 1)\n",
    "\n",
    "        q = ax[i].quiver(X, Y, V, U*-1)\n",
    "        ax[i].imshow(d, cmap=plt.cm.Pastel1)\n",
    "        # ax[i].quiverkey(q, X=0.3, Y=1.1, U=10,\n",
    "        #             label=' ', labelpos='E')\n",
    "        labels = {\n",
    "            'title': '{} Policy'.format(i if len(fdata)-1 > i else 'Optimal'),\n",
    "        }\n",
    "        insert_labels(labels, ax[i])\n",
    "        ax[i].axis('off')\n",
    "\n",
    "    plt.show()"
   ]
  },
  {
   "cell_type": "markdown",
   "metadata": {
    "id": "q-mvVkoGw-jn"
   },
   "source": [
    "## TRANSITION PROBABILITY MATRIX AND UNIFORM POLICY VALUE FUNCTION"
   ]
  },
  {
   "cell_type": "markdown",
   "metadata": {},
   "source": [
    "If $\\pi$ is the equiprobable random policy, we obtain the reward vector $\\mathbf{R}^{\\pi}$ and the probability matrix $\\mathbf{P}^{\\pi}$ shown in the Bellman expectation equation system."
   ]
  },
  {
   "cell_type": "code",
   "execution_count": 4,
   "metadata": {
    "executionInfo": {
     "elapsed": 703,
     "status": "ok",
     "timestamp": 1601891088587,
     "user": {
      "displayName": "Alex Carrillo",
      "photoUrl": "https://lh3.googleusercontent.com/a-/AOh14Gh8XvPqwus6CkKd4emZXf-eO2sdYoWwmJXgh2SEF6U=s64",
      "userId": "11047744597613456062"
     },
     "user_tz": -120
    },
    "id": "-bBR8JV6xDs2"
   },
   "outputs": [],
   "source": [
    "grid = Grid()\n",
    "\n",
    "for s in range(1, grid.N_STATES + 1):\n",
    "    for a in range(grid.N_ACTIONS):\n",
    "        \n",
    "        next_state, reward = grid.next_position(s, a)\n",
    "        # 3.TODO: Compute reward vector and transition prob matrix. \n",
    "        grid.TrPrM[s-1, next_state-1] += grid.POLICY[s-1, a]\n",
    "        grid.REWARD[s-1] += grid.POLICY[s-1, a]*reward"
   ]
  },
  {
   "cell_type": "markdown",
   "metadata": {},
   "source": [
    "We draw in a square image the matrix $\\mathbf{P}^{\\pi}$ or $p(s'|s)$ taking as axis the states $s$ (vertical axe) and $s'$ (horizontal axe)."
   ]
  },
  {
   "cell_type": "code",
   "execution_count": 5,
   "metadata": {
    "colab": {
     "base_uri": "https://localhost:8080/",
     "height": 298
    },
    "executionInfo": {
     "elapsed": 1186,
     "status": "ok",
     "timestamp": 1601891090495,
     "user": {
      "displayName": "Alex Carrillo",
      "photoUrl": "https://lh3.googleusercontent.com/a-/AOh14Gh8XvPqwus6CkKd4emZXf-eO2sdYoWwmJXgh2SEF6U=s64",
      "userId": "11047744597613456062"
     },
     "user_tz": -120
    },
    "id": "NkqFGN78nuEt",
    "outputId": "246617af-6e7e-4063-b03b-86bd8754b305"
   },
   "outputs": [
    {
     "data": {
      "image/png": "[encoded data removed]",
      "text/plain": [
       "<Figure size 432x288 with 2 Axes>"
      ]
     },
     "metadata": {
      "needs_background": "light"
     },
     "output_type": "display_data"
    }
   ],
   "source": [
    "# PLOT TRANSITION MATRIX\n",
    "conf = {\n",
    "    'title': 'Transition Probability Matrix',\n",
    "    'xlabel': 'sp state',\n",
    "    'ylabel': 's state'\n",
    "}\n",
    "plot_heatmap(grid.TrPrM, **conf)\n",
    "\n"
   ]
  },
  {
   "cell_type": "markdown",
   "metadata": {
    "id": "UwzgWMTbJseh"
   },
   "source": [
    "**In total, there are $4^{25}$ deterministic policies.**"
   ]
  },
  {
   "cell_type": "code",
   "execution_count": 6,
   "metadata": {
    "colab": {
     "base_uri": "https://localhost:8080/",
     "height": 35
    },
    "executionInfo": {
     "elapsed": 765,
     "status": "ok",
     "timestamp": 1601891131647,
     "user": {
      "displayName": "Alex Carrillo",
      "photoUrl": "https://lh3.googleusercontent.com/a-/AOh14Gh8XvPqwus6CkKd4emZXf-eO2sdYoWwmJXgh2SEF6U=s64",
      "userId": "11047744597613456062"
     },
     "user_tz": -120
    },
    "id": "Epb-zUIHJlEV",
    "outputId": "05b18872-517b-4e43-a6b1-b2ad9a23ef96"
   },
   "outputs": [
    {
     "data": {
      "text/plain": [
       "1125899906842624"
      ]
     },
     "execution_count": 6,
     "metadata": {},
     "output_type": "execute_result"
    }
   ],
   "source": [
    "4**25"
   ]
  },
  {
   "cell_type": "markdown",
   "metadata": {},
   "source": [
    "In the function below we directly implement the solving of the Bellman equation.\n",
    "\n",
    "Note we can use a different method than inverting the matrix, i.e. Least Squares, in case we need to. However for our 25x25 example, inversion is not a problem at all."
   ]
  },
  {
   "cell_type": "code",
   "execution_count": 7,
   "metadata": {},
   "outputs": [],
   "source": [
    "def bellman(P, r, gamma, method = 'inv'):\n",
    "    P_size = P.shape[0] if len(P.shape) > 1 else 1\n",
    "    I = np.eye(P_size)\n",
    "    if method == 'lstsq':\n",
    "        return np.linalg.lstsq((I - gamma*P), r)[0]     # OPTION 1: approximate by Least Squares \n",
    "    else:\n",
    "        return np.dot(np.linalg.inv((I - gamma*P)), r)  # OPTION 2: invert the matrix!"
   ]
  },
  {
   "cell_type": "markdown",
   "metadata": {},
   "source": [
    "We solve the Bellman equation with a discount factor $\\gamma=0.9$ and draw in a square figure (as Fig. 1) the value function of each state $s$: $\\mathbf{v}_{\\pi}(s)$."
   ]
  },
  {
   "cell_type": "code",
   "execution_count": 8,
   "metadata": {
    "colab": {
     "base_uri": "https://localhost:8080/",
     "height": 353
    },
    "executionInfo": {
     "elapsed": 1087,
     "status": "ok",
     "timestamp": 1601891700526,
     "user": {
      "displayName": "Alex Carrillo",
      "photoUrl": "https://lh3.googleusercontent.com/a-/AOh14Gh8XvPqwus6CkKd4emZXf-eO2sdYoWwmJXgh2SEF6U=s64",
      "userId": "11047744597613456062"
     },
     "user_tz": -120
    },
    "id": "eSgha-qC6uj8",
    "outputId": "e9ebb984-1d4f-4284-956f-9a2559e378ee"
   },
   "outputs": [
    {
     "data": {
      "image/png": "[encoded data removed]",
      "text/plain": [
       "<Figure size 432x288 with 2 Axes>"
      ]
     },
     "metadata": {
      "needs_background": "light"
     },
     "output_type": "display_data"
    }
   ],
   "source": [
    "# UNIFORM POLICY VALUE FUNCTION COMPUTATION\n",
    "\n",
    "# 4.TODO: Compute Bellman Equation\n",
    "\n",
    "value_f = bellman(grid.TrPrM, grid.REWARD, grid.GAMMA)  # vector of size N_STATES, i.e. 25\n",
    "\n",
    "vf_matrix = np.transpose(np.reshape(value_f, (grid.N_ROWS, grid.N_COLUMNS)))  # convert vector to matrix, i.e. 5x5 \n",
    "\n",
    "# PLOT UNIFORM POLICY VALUE F.\n",
    "conf = {\n",
    "    'title': 'Uniform Policy Value Function',\n",
    "}\n",
    "plot_heatmap(vf_matrix, **conf)"
   ]
  },
  {
   "cell_type": "markdown",
   "metadata": {},
   "source": [
    "We save the value function matrix to compare it with the following results."
   ]
  },
  {
   "cell_type": "code",
   "execution_count": 9,
   "metadata": {},
   "outputs": [],
   "source": [
    "uniform_policy_VF = vf_matrix"
   ]
  },
  {
   "cell_type": "markdown",
   "metadata": {
    "id": "FMo_aXFCss8A"
   },
   "source": [
    "## POLICY EVALUATION"
   ]
  },
  {
   "cell_type": "markdown",
   "metadata": {},
   "source": [
    "We program the **Iterative Policy Evaluation** procedure to iteratively compute $v_{\\pi}(s)$, for $s=1,\\dots,25$."
   ]
  },
  {
   "cell_type": "code",
   "execution_count": 10,
   "metadata": {
    "id": "FbAph-beswhj"
   },
   "outputs": [],
   "source": [
    "'''\n",
    "In this case we define a function since we will use this algorithm\n",
    "within 'policy iteration' algorithm\n",
    "'''\n",
    "def policy_evaluation(grid):\n",
    "    zeta = grid.ZETA_MAX + 1\n",
    "    iter = 0\n",
    "    v_incr = []\n",
    "\n",
    "    while zeta > grid.ZETA_MAX and iter < grid.ITER_MAX + 1:\n",
    "        \n",
    "        vm_aux = grid.V_FUNCTION.copy()                                 # Store current state-values for later comparison\n",
    "\n",
    "        for s in range(1, grid.N_STATES + 1):                           # Loop over all the states\n",
    "            vs_aux = 0\n",
    "            for a in range(grid.N_ACTIONS):                             # Loop over all actions in each state\n",
    "                next_state, reward = grid.next_position(s, a)           # Compute next_state and reward when taking action a in state s\n",
    "\n",
    "                # 5.TODO: Compute update of the state value\n",
    "                vs_aux += grid.POLICY[s-1, a] * (reward + grid.GAMMA * grid.V_FUNCTION[next_state-1])\n",
    "        \n",
    "            grid.V_FUNCTION[s - 1] = vs_aux                             # Update state-value with the result of Bellman Equation\n",
    "        \n",
    "        zeta = np.max(np.abs(grid.V_FUNCTION - vm_aux))                 # Compute the difference between current state-values and previous ones\n",
    "        v_incr.append(zeta)\n",
    "        iter += 1\n",
    "    \n",
    "    return v_incr"
   ]
  },
  {
   "cell_type": "code",
   "execution_count": 11,
   "metadata": {
    "id": "ja3u-z02DACE"
   },
   "outputs": [],
   "source": [
    "grid = Grid()\n",
    "v_incr = policy_evaluation(grid)"
   ]
  },
  {
   "cell_type": "code",
   "execution_count": 12,
   "metadata": {
    "id": "LbrbgRw_5O8a"
   },
   "outputs": [
    {
     "data": {
      "image/png": "[encoded data removed]",
      "text/plain": [
       "<Figure size 432x288 with 2 Axes>"
      ]
     },
     "metadata": {
      "needs_background": "light"
     },
     "output_type": "display_data"
    },
    {
     "data": {
      "image/png": "[encoded data removed]",
      "text/plain": [
       "<Figure size 432x288 with 1 Axes>"
      ]
     },
     "metadata": {
      "needs_background": "light"
     },
     "output_type": "display_data"
    }
   ],
   "source": [
    "vf_matrix = np.transpose(np.reshape(grid.V_FUNCTION, (grid.N_ROWS, grid.N_COLUMNS)))\n",
    "\n",
    "conf = {\n",
    "    'title': 'Policy Evaluation Value Function',\n",
    "}\n",
    "plot_heatmap(vf_matrix, **conf)\n",
    "policy_evaluation_VF = vf_matrix\n",
    "\n",
    "conf= {\n",
    "    'title': 'VF Incremental',\n",
    "    'xlabel': 'Iterations'\n",
    "}\n",
    "plot_deltas(v_incr, **conf)\n"
   ]
  },
  {
   "cell_type": "markdown",
   "metadata": {},
   "source": [
    "A priori, the result of the plots seems very similar to the one obtained in question c), that is when explicitly solving Bellman equation and seen the Uniform Policy Value Function plot.\n",
    "\n",
    "Now, when applying iteratively the Bellman expectation equation we get the same results, the heatmap looks the same and it has the same values. Indeed, by rather than inverting the matrix equation, it can be shown that this $\\mathbf{v}^\\pi_{k+1} = \\mathbf{R}^\\pi + \\gamma\\mathbf{P} \\mathbf{v}^\\pi_k$ iteration converges to $\\mathbf{v}_\\pi(s)$ as $k \\to \\infty$. For instance, the VF incremental plot shows how quickly the differences between $\\mathbf{v}(s^{k+1})$ and $\\mathbf{v}(s^{k})$, *i.e.* the difference between current state-values and previous ones, decays to almost zero and the iterations eventually stop.\n",
    "\n",
    "Finally, we numerically compare the both value function matrices (*Uniform Policy Value Function* and *Policy Evaluation Value Function*) and we observe that their differences are negligible, in our example."
   ]
  },
  {
   "cell_type": "code",
   "execution_count": 13,
   "metadata": {},
   "outputs": [
    {
     "data": {
      "text/plain": [
       "array([[0.00459926, 0.00363756, 0.00351259, 0.0031934 , 0.00334994],\n",
       "       [0.00423511, 0.0035965 , 0.00327995, 0.00307771, 0.00304825],\n",
       "       [0.00404538, 0.00348863, 0.00315037, 0.00295802, 0.00288617],\n",
       "       [0.00394167, 0.00341029, 0.00307328, 0.0028806 , 0.0027985 ],\n",
       "       [0.00389612, 0.00337294, 0.00303798, 0.00284505, 0.00276059]])"
      ]
     },
     "execution_count": 13,
     "metadata": {},
     "output_type": "execute_result"
    }
   ],
   "source": [
    "policy_evaluation_VF - uniform_policy_VF"
   ]
  },
  {
   "cell_type": "markdown",
   "metadata": {
    "id": "7z4JSTbwsxKe"
   },
   "source": [
    "## POLICY ITERATION"
   ]
  },
  {
   "cell_type": "markdown",
   "metadata": {},
   "source": [
    "Next, we program  the  **Policy  Iteration  Improvement**  procedure  to  iteratively  compute  an optimum deterministic policy $A(s)$, for $s=1,\\dots,25$, *i.e.* a policy such as $p(a|s)=1$ if $A(s)=a$ and $p(a'|s)=0$ for $a' \\neq a$.\n",
    "\n",
    "We make use of the iterative `policy_evaluation()` function programmed in question d)."
   ]
  },
  {
   "cell_type": "code",
   "execution_count": 14,
   "metadata": {
    "id": "ojdElUBjs2h8"
   },
   "outputs": [],
   "source": [
    "grid = Grid()\n",
    "\n",
    "iter = 0\n",
    "it_max = 10\n",
    "ac_dif = 1\n",
    "\n",
    "actions_list = []       # Store actions taken in each state for each run. [[a1, ... , a25], ... , [a1, ... , a25]]\n",
    "a_inc = []              # Store number of different actions taken in each run.\n",
    "\n",
    "\n",
    "while ac_dif > 0 and iter < it_max + 1:\n",
    "    ac_dif = 0\n",
    "    actions = []\n",
    "    \n",
    "    # 6.TODO: Program Policy Iteration Algorithm (you must make use of policy_evaluation function)\n",
    "    policy_stable = True\n",
    "    _ = policy_evaluation(grid)\n",
    "    \n",
    "    for s in range(1, grid.N_STATES + 1):\n",
    "        old_action = np.argmax(grid.POLICY[s-1])\n",
    "        action_values = np.zeros(grid.N_ACTIONS)\n",
    "        \n",
    "        for a in range(grid.N_ACTIONS):\n",
    "            next_state, reward = grid.next_position(s, a)\n",
    "            action_values[a] += reward + grid.GAMMA * grid.V_FUNCTION[next_state-1]\n",
    "        \n",
    "        best_action = np.argmax(action_values)\n",
    "        actions.append(best_action)\n",
    "        \n",
    "        if old_action != best_action:\n",
    "            policy_stable = False\n",
    "            ac_dif += 1\n",
    "            \n",
    "        grid.POLICY[s-1] = np.eye(grid.N_ACTIONS)[best_action]\n",
    "        \n",
    "    #####\n",
    "\n",
    "    actions_list.append(np.transpose(np.array(actions).reshape(grid.N_ROWS,grid.N_COLUMNS)))\n",
    "    a_inc.append(ac_dif)\n",
    "\n",
    "    if policy_stable:\n",
    "        break\n",
    "    \n",
    "    iter += 1"
   ]
  },
  {
   "cell_type": "markdown",
   "metadata": {},
   "source": [
    "We draw in square figures the value function of each state $s$: $\\mathbf{v}_A(s)$ and the optimum policy $A(s)$."
   ]
  },
  {
   "cell_type": "code",
   "execution_count": 15,
   "metadata": {
    "id": "24ylkranLraI"
   },
   "outputs": [
    {
     "data": {
      "image/png": "[encoded data removed]",
      "text/plain": [
       "<Figure size 432x288 with 2 Axes>"
      ]
     },
     "metadata": {
      "needs_background": "light"
     },
     "output_type": "display_data"
    },
    {
     "data": {
      "image/png": "[encoded data removed]",
      "text/plain": [
       "<Figure size 432x288 with 1 Axes>"
      ]
     },
     "metadata": {
      "needs_background": "light"
     },
     "output_type": "display_data"
    }
   ],
   "source": [
    "vf_matrix = np.transpose(np.reshape(grid.V_FUNCTION, (grid.N_ROWS, grid.N_COLUMNS)))\n",
    "\n",
    "conf = {\n",
    "    'title': 'Policy Iteration Value Function',\n",
    "}\n",
    "plot_heatmap(vf_matrix, **conf)\n",
    "policy_iteration_VF = vf_matrix.copy()\n",
    "\n",
    "conf= {\n",
    "    'title': '# of dif. actions between consecutive policies',\n",
    "    'xlabel': 'Iterations'\n",
    "}\n",
    "plot_deltas(a_inc, **conf)\n",
    "\n"
   ]
  },
  {
   "cell_type": "markdown",
   "metadata": {},
   "source": [
    "With *policy iteration* algorithm, we first evaluate policy until convergence and then we improve policy. So, as we know, the final policy is an optimal policy given that $\\mathbf{v}(s) = max_{a\\in \\mathcal{A}} q_\\pi(s,a) = \\mathbf{v}_*(s) \\quad \\forall s$. That is why we note that the values of the Value Function matrix have increased from $[0,8]$ (in the previous questions) up to $[12,24]$ now (because the policy is optimal, hence its value function is higher).\n",
    "\n",
    "In policy iteration we now that if improvement stops, the Bellman optimality equation is satisfied. In the \"# of dif. actions between consecutive policies\" plot we can see that the algorithm has needed only 3 iterations, i.e. it has changed between 3 different policies (well, indeed only 2, because the last one is the same as the previous one). Below we can see them and check that indeed they make sense as the optimal policy led us to best special states:"
   ]
  },
  {
   "cell_type": "code",
   "execution_count": 16,
   "metadata": {
    "id": "IBpxT28fR0eS"
   },
   "outputs": [
    {
     "data": {
      "image/png": "[encoded data removed]",
      "text/plain": [
       "<Figure size 1440x432 with 4 Axes>"
      ]
     },
     "metadata": {
      "needs_background": "light"
     },
     "output_type": "display_data"
    }
   ],
   "source": [
    "plot_arrows(actions_list, grid.ACTIONS)"
   ]
  },
  {
   "cell_type": "markdown",
   "metadata": {
    "id": "8KKf7jiPs6Ok"
   },
   "source": [
    "## VALUE ITERATION"
   ]
  },
  {
   "cell_type": "markdown",
   "metadata": {},
   "source": [
    "Finally, we program  the  **Value  Iteration  Improvement**  procedure  to  iteratively  compute  an optimum deterministic policy $A(s)$, for $s=1,\\dots,25$, *i.e.* a policy such as $p(a|s)=1$ if $A(s)=a$ and $p(a'|s)=0$ for $a' \\neq a$."
   ]
  },
  {
   "cell_type": "code",
   "execution_count": 17,
   "metadata": {
    "id": "QCNrl1wns3EX"
   },
   "outputs": [],
   "source": [
    "grid = Grid()\n",
    "\n",
    "zeta = grid.ZETA_MAX + 1\n",
    "iter = 0\n",
    "v_incr = []\n",
    "a_inc = []\n",
    "\n",
    "while zeta > grid.ZETA_MAX and iter < grid.ITER_MAX + 1:\n",
    "    ac_dif = 0\n",
    "    vm_aux = grid.V_FUNCTION.copy()\n",
    "\n",
    "    # 7.TODO: Program Value Iteration Algorithm (do NOT make use of policy_evaluation function)    \n",
    "    for s in range(1, grid.N_STATES + 1):\n",
    "        old_action = np.argmax(grid.POLICY[s-1])\n",
    "        action_values = np.zeros(grid.N_ACTIONS)\n",
    "        \n",
    "        for a in range(grid.N_ACTIONS):\n",
    "            next_state, reward = grid.next_position(s, a)\n",
    "            action_values[a] += reward + grid.GAMMA * grid.V_FUNCTION[next_state-1]\n",
    "        \n",
    "        best_action_value = np.max(action_values)\n",
    "        best_action = np.argmax(action_values)\n",
    "        \n",
    "        if old_action != best_action:\n",
    "            ac_dif += 1\n",
    "        \n",
    "        grid.V_FUNCTION[s-1] = best_action_value\n",
    "        grid.POLICY[s-1] = np.eye(grid.N_ACTIONS)[best_action]\n",
    "    \n",
    "    a_inc.append(ac_dif)                                # Number of actions taken differently from previous iteration\n",
    "    zeta = np.max(np.abs(grid.V_FUNCTION - vm_aux))     # Compute the difference of the state-values\n",
    "    v_incr.append(zeta)                                 # Store the difference in v_incr list\n",
    "    iter += 1"
   ]
  },
  {
   "cell_type": "code",
   "execution_count": 18,
   "metadata": {
    "id": "cw9p94h3K1gD"
   },
   "outputs": [
    {
     "data": {
      "image/png": "[encoded data removed]",
      "text/plain": [
       "<Figure size 432x288 with 2 Axes>"
      ]
     },
     "metadata": {
      "needs_background": "light"
     },
     "output_type": "display_data"
    },
    {
     "data": {
      "image/png": "[encoded data removed]",
      "text/plain": [
       "<Figure size 432x288 with 1 Axes>"
      ]
     },
     "metadata": {
      "needs_background": "light"
     },
     "output_type": "display_data"
    },
    {
     "data": {
      "image/png": "[encoded data removed]",
      "text/plain": [
       "<Figure size 432x288 with 1 Axes>"
      ]
     },
     "metadata": {
      "needs_background": "light"
     },
     "output_type": "display_data"
    }
   ],
   "source": [
    "vf_matrix = np.transpose(np.reshape(grid.V_FUNCTION, (grid.N_ROWS, grid.N_COLUMNS)))\n",
    "\n",
    "conf = {\n",
    "    'title': 'Value Iteration Value Function',\n",
    "}\n",
    "plot_heatmap(vf_matrix, **conf)\n",
    "value_iteration_VF = vf_matrix.copy()\n",
    "\n",
    "conf= {\n",
    "    'title': '# of dif. actions between consecutive policies',\n",
    "    'xlabel': 'Iterations'\n",
    "}\n",
    "plot_deltas(a_inc, **conf)\n",
    "\n",
    "conf= {\n",
    "    'title': 'VF Incremental',\n",
    "    'xlabel': 'Iterations'\n",
    "}\n",
    "plot_deltas(v_incr, **conf)\n"
   ]
  },
  {
   "cell_type": "markdown",
   "metadata": {},
   "source": [
    "Now, with *value iteration* algorithm we expect the same result, and that is the case. With value iteration we first evaluate value function and then obtain policy, by effectively combine, in each of its sweeps, one weep of policy evaluation and one sweep of policy improvement, like in our code. In fact, we observe that the differences between both *Uniform Policy Value Function* and *Policy Evaluation Value Function* matrices are negligible, in our example:"
   ]
  },
  {
   "cell_type": "code",
   "execution_count": 19,
   "metadata": {},
   "outputs": [
    {
     "data": {
      "text/plain": [
       "array([[0.00098533, 0.00064647, 0.00058183, 0.00064647, 0.00058183],\n",
       "       [0.0008868 , 0.00058183, 0.00052364, 0.00047128, 0.00042415],\n",
       "       [0.00079812, 0.00052364, 0.00047128, 0.00042415, 0.00038174],\n",
       "       [0.00071831, 0.00047128, 0.00042415, 0.00038174, 0.00034356],\n",
       "       [0.00064647, 0.00042415, 0.00038174, 0.00034356, 0.00030921]])"
      ]
     },
     "execution_count": 19,
     "metadata": {},
     "output_type": "execute_result"
    }
   ],
   "source": [
    "policy_iteration_VF - value_iteration_VF"
   ]
  },
  {
   "cell_type": "markdown",
   "metadata": {},
   "source": [
    "It is clear that now as we make use of the `grid.ZETA_MAX` $\\theta$ parameter the algorithm takes a few more iterations but the VF incremental plot shows a similar behaviour seen before: it decreases at the very first iterations, meaning that the differences between $\\mathbf{v}(s^{k+1})$ and $\\mathbf{v}(s^{k})$, *i.e.* the difference between current state-values and previous ones, decays to almost zero and the iterations eventually stop.\n",
    "\n",
    "For the \"# of dif. actions between consecutive policies\" plot, we see that the number of actions changes between the second iteration and keeps the same until the algorithm stops.\n",
    "\n",
    "Finally, the optimal policy is show below and, as expected, it is the same as the one obtained with the Policy Iteration algorithm and indeed it is a policy that make sense (it led us to the best special states):"
   ]
  },
  {
   "cell_type": "code",
   "execution_count": 20,
   "metadata": {
    "id": "p0-i0vkZ5ui2"
   },
   "outputs": [
    {
     "data": {
      "image/png": "[encoded data removed]",
      "text/plain": [
       "<Figure size 432x288 with 1 Axes>"
      ]
     },
     "metadata": {
      "needs_background": "light"
     },
     "output_type": "display_data"
    }
   ],
   "source": [
    "conf= {\n",
    "    'title': 'Optimal Policy'\n",
    "}\n",
    "\n",
    "actions = []\n",
    "for s in range(1, grid.N_STATES + 1):\n",
    "    actions.append(np.argmax(grid.POLICY[s-1]))\n",
    "\n",
    "action_arrows = np.transpose(np.array(actions).reshape(grid.N_ROWS,grid.N_COLUMNS))\n",
    "plot_arrow(action_arrows, grid.ACTIONS, **conf)"
   ]
  },
  {
   "cell_type": "code",
   "execution_count": null,
   "metadata": {},
   "outputs": [],
   "source": []
  }
 ],
 "metadata": {
  "colab": {
   "collapsed_sections": [],
   "name": "Pràctica GridWorld.ipynb",
   "provenance": [
    {
     "file_id": "1LKYeCltu4XtibKhMppvkHe3KkbJVFKrr",
     "timestamp": 1601889497327
    }
   ]
  },
  "kernelspec": {
   "display_name": "Python 3",
   "language": "python",
   "name": "python3"
  },
  "language_info": {
   "codemirror_mode": {
    "name": "ipython",
    "version": 3
   },
   "file_extension": ".py",
   "mimetype": "text/x-python",
   "name": "python",
   "nbconvert_exporter": "python",
   "pygments_lexer": "ipython3",
   "version": "3.6.2"
  }
 },
 "nbformat": 4,
 "nbformat_minor": 4
}
